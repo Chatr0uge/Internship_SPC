{
 "cells": [
  {
   "cell_type": "code",
   "execution_count": 1,
   "metadata": {},
   "outputs": [],
   "source": [
    "import numpy as np\n",
    "import matplotlib.pyplot as plt\n",
    "plt.style.use('publication')"
   ]
  },
  {
   "cell_type": "code",
   "execution_count": 68,
   "metadata": {},
   "outputs": [],
   "source": [
    "L = 10 \n",
    "l_cx = 1\n",
    "delta_n = np.linspace(1e-4, .1, 1000, dtype=np.complex128)\n",
    "n_c = 1\n",
    "c = 3e10"
   ]
  },
  {
   "cell_type": "code",
   "execution_count": 77,
   "metadata": {},
   "outputs": [],
   "source": [
    "x_0 =np.sqrt(n_c * 8 * l_cx **2 / delta_n)\n",
    "K1 = np.sqrt((x_0 / (2 * L)) ** 2 - 8 * l_cx ** 2 / (x_0 ** 2))\n",
    "K2 =  l_cx / x_0 - x_0 / (2 * L)\n",
    "K2_star = - x_0 / (2 * L)"
   ]
  },
  {
   "cell_type": "code",
   "execution_count": 78,
   "metadata": {},
   "outputs": [],
   "source": [
    "def f1(K):\n",
    "    return np.log(np.sqrt((K / K1) ** 2 - 1) + K / K1) "
   ]
  },
  {
   "cell_type": "code",
   "execution_count": null,
   "metadata": {},
   "outputs": [],
   "source": []
  }
 ],
 "metadata": {
  "kernelspec": {
   "display_name": "base",
   "language": "python",
   "name": "python3"
  },
  "language_info": {
   "codemirror_mode": {
    "name": "ipython",
    "version": 3
   },
   "file_extension": ".py",
   "mimetype": "text/x-python",
   "name": "python",
   "nbconvert_exporter": "python",
   "pygments_lexer": "ipython3",
   "version": "3.11.4"
  }
 },
 "nbformat": 4,
 "nbformat_minor": 2
}
