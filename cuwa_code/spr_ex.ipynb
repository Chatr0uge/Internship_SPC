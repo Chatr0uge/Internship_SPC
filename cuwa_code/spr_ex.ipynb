{
 "cells": [
  {
   "cell_type": "code",
   "execution_count": 10,
   "metadata": {},
   "outputs": [],
   "source": [
    "import numpy as np\n",
    "import scipy as sp\n",
    "import scipy.constants as sc \n",
    "import scipy.fftpack as fft\n",
    "from scipy.ndimage.filters import gaussian_filter\n",
    "import matplotlib.pyplot as plt\n",
    "import sys,os; sys.path.insert(0, os.path.expanduser('./lib_CUWA/')); \n",
    "import lib_CUWA_core as lib_CUWA #This library contains minimal code needed to run CUWA\n",
    "import gaussian_beam as GB\n",
    "from tqdm import tqdm"
   ]
  },
  {
   "cell_type": "code",
   "execution_count": 5,
   "metadata": {},
   "outputs": [
    {
     "data": {
      "text/plain": [
       "numpy.ndarray"
      ]
     },
     "execution_count": 5,
     "metadata": {},
     "output_type": "execute_result"
    }
   ],
   "source": [
    "type(np.array([1]))"
   ]
  },
  {
   "cell_type": "code",
   "execution_count": 2,
   "metadata": {},
   "outputs": [],
   "source": [
    "def delay(time : np.ndarray, sig : np.ndarray) -> float : \n",
    "    \"\"\"\n",
    "    delay return the time delay of the signal\n",
    "\n",
    "    Parameters\n",
    "    ----------\n",
    "    time : np.ndarray\n",
    "        _description_\n",
    "    sig : np.ndarray\n",
    "        _description_\n",
    "\n",
    "    Returns\n",
    "    -------\n",
    "    float\n",
    "        _description_\n",
    "    \"\"\"    \n",
    "    return time[np.argmax(abs(sig))]"
   ]
  },
  {
   "cell_type": "code",
   "execution_count": 7,
   "metadata": {},
   "outputs": [],
   "source": [
    "def delay_dispersion(time, signal) -> float: \n",
    "    \"\"\"\n",
    "    delay_dispersion return the dispersion of the signal given a threshold 1/e * max(signal)\n",
    "\n",
    "    Parameters\n",
    "    ----------\n",
    "    time : np.ndarray\n",
    "        _description_\n",
    "    signal : np.ndarray\n",
    "        _description_\n",
    "\n",
    "    Returns\n",
    "    -------\n",
    "    float\n",
    "        _description_\n",
    "    \"\"\"    \n",
    "    mask = np.abs(signal) > np.exp(-1) * np.max(np.abs(signal))\n",
    "    time_window = time[mask]\n",
    "    \n",
    "    return (time_window[-1] - time_window[0]) / 2 "
   ]
  },
  {
   "cell_type": "code",
   "execution_count": 9,
   "metadata": {},
   "outputs": [],
   "source": [
    "def Gaussian_turb(lx : float,ly : float,nx : float, ny : int, dx : float) -> np.ndarray: \n",
    "    \"\"\"\n",
    "    Gaussian_turb generate a 2d Gaussian turbulence field\n",
    "\n",
    "    Parameters\n",
    "    ----------\n",
    "    lx : float\n",
    "        correlation length in x of turbulence\n",
    "    ly : float\n",
    "        correlation length in y of turbulence\n",
    "    nx : float\n",
    "        number of points in x\n",
    "    ny : int\n",
    "        number of points in y\n",
    "    dx : float\n",
    "        grid spacing\n",
    "\n",
    "    Returns\n",
    "    -------\n",
    "    np.ndarray\n",
    "        _description_\n",
    "    \"\"\"    \n",
    "    \n",
    "    kx = 2*np.pi*np.arange(-0.5/dx,0.5/dx-0.5/dx/nx,1/dx/nx)\n",
    "    ky = 2*np.pi*np.arange(-0.5/dx,0.5/dx-0.5/dx/ny,1/dx/ny)\n",
    "    \n",
    "    expx = np.exp(-kx**2*lx**2/8)\n",
    "    expy = np.exp(-ky**2*ly**2/8)\n",
    "    \n",
    "    spectra = np.exp(np.random.rand(nx,ny)*2j*np.pi)\n",
    "    spectra = spectra*expx[:,None]*expy[None,:]\n",
    "    \n",
    "    fluct = fft.ifftshift(fft.ifft2(fft.ifftshift(spectra)))\n",
    "    \n",
    "    return fluct.real() * np.pi / dx**2 * lx * ly"
   ]
  },
  {
   "cell_type": "code",
   "execution_count": null,
   "metadata": {},
   "outputs": [],
   "source": [
    "def run_CUWA(C1 : lib_CUWA.CUWA ,w_p : float, w_c : float, b_x, b_y, b_z, beam : GB.Gaussian_beam,numplots,path) -> None:\n",
    "    \n",
    "    C1.set_plasma_data(w_p, w_c, b_x, b_y, b_z) # TODO ask for the meaning of the parameters b_x, b_y, b_z\n",
    "    C1.set_antenna(beam, source='True', receiver='True')\n",
    "    #C1.set_antenna(beam2, source='False', receiver='True')\n",
    "    C1.run_init()\n",
    "    progress_status = 0; st = 0;\n",
    "    steps=round(C1.suggested_n_steps*1.7)\n",
    "    reAz_list=[];imAz_list=[];t_list = [];IQ=[] #preparing list for the signal\n",
    "    record=1 #recognizing the arrival of the pulse\n",
    "\n",
    "    \n",
    "    for t in tqdm(range(int(steps))):\n",
    "        \n",
    "        C1.run_source(t,beam)\n",
    "        C1.run_phasor(t,beam)\n",
    "        reAx_g,reAy_g,reAz_g,imAx_g,imAy_g,imAz_g = [field.get() for field in beam.A_g]\n",
    "        C1.run_step()\n",
    "\n",
    "\n",
    "        if numplots> 0 and (t+1) % np.floor(steps/numplots) == 0:\n",
    "            \n",
    "            fig   = plt.figure(figsize=(10*ratio,10))\n",
    "            plt.contourf(X[0],Y[0],C1.w_p[0],30,cmap='cividis')\n",
    "            plt.contour(X[0],Y[0],C1.get_magE()[0], [0.1,0.2,0.3,0.4,0.5,0.6,0.7,0.8,0.9,1.0],cmap='plasma')\n",
    "            fig.savefig(path+'E_{0}.png'.format(t+1),dpi=400)\n",
    "            plt.close()\n",
    "            \n",
    "\n",
    "        \n",
    "    \n",
    "        if t % (beam.T//8) == 0 and t> 1*beam.T:             \n",
    "        \n",
    "            if record == 1:   #recording the previous period signal\n",
    "                t_list.append(t*C1.dt)\n",
    "                IQ.append(np.sum(reAz_list)+1j*np.sum(imAz_list))\n",
    "                #reAz_list=[]  #resetting the recording\n",
    "                #imAz_list=[]\n",
    "        \n",
    "    \n",
    "        if record==1:   #recording data for each period \n",
    "            reAz_list.append(np.trapz(reAz_g[0,0,:]))   \n",
    "            imAz_list.append(np.trapz(imAz_g[0,0,:]))    \n",
    "            if len(reAz_list)>beam.T:\n",
    "                reAz_list.pop(0)\n",
    "                imAz_list.pop(0)\n",
    "    \n",
    "    return t_list, IQ\n"
   ]
  }
 ],
 "metadata": {
  "kernelspec": {
   "display_name": "Python 3",
   "language": "python",
   "name": "python3"
  },
  "language_info": {
   "codemirror_mode": {
    "name": "ipython",
    "version": 3
   },
   "file_extension": ".py",
   "mimetype": "text/x-python",
   "name": "python",
   "nbconvert_exporter": "python",
   "pygments_lexer": "ipython3",
   "version": "3.7.7"
  }
 },
 "nbformat": 4,
 "nbformat_minor": 2
}
