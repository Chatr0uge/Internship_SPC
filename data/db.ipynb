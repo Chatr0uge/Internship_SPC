{
 "cells": [
  {
   "cell_type": "code",
   "execution_count": 1,
   "metadata": {},
   "outputs": [],
   "source": [
    "from DataBase import DataBase\n",
    "from utils.utils import *"
   ]
  },
  {
   "cell_type": "code",
   "execution_count": 2,
   "metadata": {},
   "outputs": [],
   "source": [
    "db = DataBase('./SPR_db.db')"
   ]
  },
  {
   "cell_type": "code",
   "execution_count": 3,
   "metadata": {},
   "outputs": [
    {
     "name": "stdout",
     "output_type": "stream",
     "text": [
      "0\r"
     ]
    },
    {
     "ename": "KeyboardInterrupt",
     "evalue": "",
     "output_type": "error",
     "traceback": [
      "\u001b[0;31m---------------------------------------------------------------------------\u001b[0m",
      "\u001b[0;31mKeyboardInterrupt\u001b[0m                         Traceback (most recent call last)",
      "\u001b[1;32m/media/andrea/Crucial X6/scholar/Master/stage/data/db.ipynb Cell 3\u001b[0m line \u001b[0;36m1\n\u001b[0;32m----> <a href='vscode-notebook-cell:/media/andrea/Crucial%20X6/scholar/Master/stage/data/db.ipynb#W2sZmlsZQ%3D%3D?line=0'>1</a>\u001b[0m convert_to_database(\u001b[39m'\u001b[39m\u001b[39m./db_folder\u001b[39m\u001b[39m'\u001b[39m, \u001b[39m'\u001b[39m\u001b[39m./SPR_db.db\u001b[39m\u001b[39m'\u001b[39m)\n",
      "File \u001b[0;32m/media/andrea/Crucial X6/scholar/Master/stage/data/utils/utils.py:100\u001b[0m, in \u001b[0;36mconvert_to_database\u001b[0;34m(dir, db_path)\u001b[0m\n\u001b[1;32m     98\u001b[0m \u001b[39mfor\u001b[39;00m i \u001b[39min\u001b[39;00m \u001b[39mrange\u001b[39m(\u001b[39mlen\u001b[39m(params)): \n\u001b[1;32m     99\u001b[0m     \u001b[39mprint\u001b[39m(i, end\u001b[39m=\u001b[39m\u001b[39m'\u001b[39m\u001b[39m\\r\u001b[39;00m\u001b[39m'\u001b[39m)\n\u001b[0;32m--> 100\u001b[0m     IQ_list \u001b[39m=\u001b[39m np\u001b[39m.\u001b[39marray([np\u001b[39m.\u001b[39mload(\u001b[39mdir\u001b[39m \u001b[39m+\u001b[39m \u001b[39mf\u001b[39m\u001b[39m'\u001b[39m\u001b[39m/id_\u001b[39m\u001b[39m{\u001b[39;00mi\u001b[39m}\u001b[39;00m\u001b[39m/\u001b[39m\u001b[39m{\u001b[39;00mfile\u001b[39m}\u001b[39;00m\u001b[39m'\u001b[39m) \u001b[39mfor\u001b[39;00m file \u001b[39min\u001b[39;00m os\u001b[39m.\u001b[39mlistdir(\u001b[39mdir\u001b[39m \u001b[39m+\u001b[39m \u001b[39mf\u001b[39m\u001b[39m'\u001b[39m\u001b[39m/id_\u001b[39m\u001b[39m{\u001b[39;00mi\u001b[39m}\u001b[39;00m\u001b[39m'\u001b[39m) \u001b[39mif\u001b[39;00m file[\u001b[39m0\u001b[39m] \u001b[39m==\u001b[39m \u001b[39m'\u001b[39m\u001b[39mI\u001b[39m\u001b[39m'\u001b[39m])\n\u001b[1;32m    101\u001b[0m     pl \u001b[39m=\u001b[39m np\u001b[39m.\u001b[39mnan_to_num(IQ_list[:,\u001b[39m1\u001b[39m], nan \u001b[39m=\u001b[39m \u001b[39m0\u001b[39m)\n\u001b[1;32m    102\u001b[0m     pulse_list\u001b[39m.\u001b[39mappend(\u001b[39mabs\u001b[39m(np\u001b[39m.\u001b[39marray(pl)))\n",
      "File \u001b[0;32m/media/andrea/Crucial X6/scholar/Master/stage/data/utils/utils.py:100\u001b[0m, in \u001b[0;36m<listcomp>\u001b[0;34m(.0)\u001b[0m\n\u001b[1;32m     98\u001b[0m \u001b[39mfor\u001b[39;00m i \u001b[39min\u001b[39;00m \u001b[39mrange\u001b[39m(\u001b[39mlen\u001b[39m(params)): \n\u001b[1;32m     99\u001b[0m     \u001b[39mprint\u001b[39m(i, end\u001b[39m=\u001b[39m\u001b[39m'\u001b[39m\u001b[39m\\r\u001b[39;00m\u001b[39m'\u001b[39m)\n\u001b[0;32m--> 100\u001b[0m     IQ_list \u001b[39m=\u001b[39m np\u001b[39m.\u001b[39marray([np\u001b[39m.\u001b[39mload(\u001b[39mdir\u001b[39m \u001b[39m+\u001b[39m \u001b[39mf\u001b[39m\u001b[39m'\u001b[39m\u001b[39m/id_\u001b[39m\u001b[39m{\u001b[39;00mi\u001b[39m}\u001b[39;00m\u001b[39m/\u001b[39m\u001b[39m{\u001b[39;00mfile\u001b[39m}\u001b[39;00m\u001b[39m'\u001b[39m) \u001b[39mfor\u001b[39;00m file \u001b[39min\u001b[39;00m os\u001b[39m.\u001b[39mlistdir(\u001b[39mdir\u001b[39m \u001b[39m+\u001b[39m \u001b[39mf\u001b[39m\u001b[39m'\u001b[39m\u001b[39m/id_\u001b[39m\u001b[39m{\u001b[39;00mi\u001b[39m}\u001b[39;00m\u001b[39m'\u001b[39m) \u001b[39mif\u001b[39;00m file[\u001b[39m0\u001b[39m] \u001b[39m==\u001b[39m \u001b[39m'\u001b[39m\u001b[39mI\u001b[39m\u001b[39m'\u001b[39m])\n\u001b[1;32m    101\u001b[0m     pl \u001b[39m=\u001b[39m np\u001b[39m.\u001b[39mnan_to_num(IQ_list[:,\u001b[39m1\u001b[39m], nan \u001b[39m=\u001b[39m \u001b[39m0\u001b[39m)\n\u001b[1;32m    102\u001b[0m     pulse_list\u001b[39m.\u001b[39mappend(\u001b[39mabs\u001b[39m(np\u001b[39m.\u001b[39marray(pl)))\n",
      "File \u001b[0;32m~/anaconda3/lib/python3.11/site-packages/numpy/lib/npyio.py:434\u001b[0m, in \u001b[0;36mload\u001b[0;34m(file, mmap_mode, allow_pickle, fix_imports, encoding, max_header_size)\u001b[0m\n\u001b[1;32m    432\u001b[0m _ZIP_SUFFIX \u001b[39m=\u001b[39m \u001b[39mb\u001b[39m\u001b[39m'\u001b[39m\u001b[39mPK\u001b[39m\u001b[39m\\x05\u001b[39;00m\u001b[39m\\x06\u001b[39;00m\u001b[39m'\u001b[39m \u001b[39m# empty zip files start with this\u001b[39;00m\n\u001b[1;32m    433\u001b[0m N \u001b[39m=\u001b[39m \u001b[39mlen\u001b[39m(\u001b[39mformat\u001b[39m\u001b[39m.\u001b[39mMAGIC_PREFIX)\n\u001b[0;32m--> 434\u001b[0m magic \u001b[39m=\u001b[39m fid\u001b[39m.\u001b[39mread(N)\n\u001b[1;32m    435\u001b[0m \u001b[39mif\u001b[39;00m \u001b[39mnot\u001b[39;00m magic:\n\u001b[1;32m    436\u001b[0m     \u001b[39mraise\u001b[39;00m \u001b[39mEOFError\u001b[39;00m(\u001b[39m\"\u001b[39m\u001b[39mNo data left in file\u001b[39m\u001b[39m\"\u001b[39m)\n",
      "\u001b[0;31mKeyboardInterrupt\u001b[0m: "
     ]
    }
   ],
   "source": [
    "convert_to_database('./db_folder', './SPR_db.db')"
   ]
  },
  {
   "cell_type": "code",
   "execution_count": 4,
   "metadata": {},
   "outputs": [],
   "source": [
    "pulse_list = np.load('pulse_list.npy', allow_pickle=True)\n",
    "delay_list = np.load('delay_list.npy', allow_pickle=True)\n",
    "pulse_width = np.load('pulse_width.npy', allow_pickle=True)"
   ]
  },
  {
   "cell_type": "markdown",
   "metadata": {},
   "source": [
    "## ALREADY IMPLEMENT METRICS : \n",
    "\n",
    "### PULSE\n",
    "----------------------------------------\n",
    "- ~~MEAN PULSE WIDTH~~\n",
    "- ~~MEAN PULSE AMP~~\n",
    "- ~~MEAN SIGNAL (FOR ALL SAMPLES)~~\n",
    "- ~~SKEW SIGNAL (FOR ALL SAMPLES)~~\n",
    "- ~~KURT SIGNAL (FOR ALL SAMPLES)~~\n",
    "- ~~VARIANCE SIGNAL (FOR ALL SAMPLES)~~\n",
    "\n",
    "----------------------------------------\n",
    "- HYSTERESIS (FOR ALL SAMPLES)\n",
    "\n",
    "- ~~MEAN SIGNAL (FOR EVERY SAMPLES)~~\n",
    "- ~~SKEW SIGNAL (FOR EVERY SAMPLES)~~\n",
    "- ~~KURT SIGNAL (FOR EVERY SAMPLES)~~\n",
    "- VARIANCE SIGNAL (FOR EVERY SAMPLES)\n",
    "- ~~HYSTERESIS (FOR EVERY SAMPLES)~~\n",
    "\n",
    "----------------------------------------\n",
    "\n",
    "\n",
    "### DELAY\n",
    "\n",
    "- ~~STD DELAY~~\n",
    "- ~~MEAN DELAY~~\n"
   ]
  },
  {
   "cell_type": "code",
   "execution_count": 5,
   "metadata": {},
   "outputs": [],
   "source": [
    "from scipy.stats import skew, kurtosis"
   ]
  },
  {
   "cell_type": "code",
   "execution_count": 6,
   "metadata": {},
   "outputs": [],
   "source": [
    "db.add_column('std_delays', np.std(delay_list, axis = 1), 'real')\n",
    "db.add_column('mean_delay', np.mean(abs(delay_list), axis = 1), 'real')\n",
    "\n",
    "db.add_column('mean_pulse_width', np.mean(abs(pulse_width), axis = 1), 'real')\n",
    "db.add_column('mean_pulse_amp', np.mean(np.max(abs(pulse_list), axis = 2), axis = 1), 'real')"
   ]
  },
  {
   "cell_type": "code",
   "execution_count": 7,
   "metadata": {},
   "outputs": [],
   "source": [
    "db.apply_function(np.mean, 'pulse_list', 'mean_mean_pulse', type_column = 'real')\n",
    "db.apply_function(skew, 'pulse_list', 'skew_mean',  type_column = 'real')\n",
    "db.apply_function(kurtosis, 'pulse_list', 'mean_kurt', type_column = 'real')\n",
    "db.apply_function(hysteresis_array, 'pulse_list ', 'hysteresis_mean', type_column = 'real')"
   ]
  }
 ],
 "metadata": {
  "kernelspec": {
   "display_name": "Python 3",
   "language": "python",
   "name": "python3"
  },
  "language_info": {
   "codemirror_mode": {
    "name": "ipython",
    "version": 3
   },
   "file_extension": ".py",
   "mimetype": "text/x-python",
   "name": "python",
   "nbconvert_exporter": "python",
   "pygments_lexer": "ipython3",
   "version": "3.11.4"
  }
 },
 "nbformat": 4,
 "nbformat_minor": 2
}
