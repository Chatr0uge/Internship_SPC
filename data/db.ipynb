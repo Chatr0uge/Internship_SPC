{
 "cells": [
  {
   "cell_type": "code",
   "execution_count": 1,
   "metadata": {},
   "outputs": [],
   "source": [
    "from DataBase import DataBase\n",
    "from utils.utils import *"
   ]
  },
  {
   "cell_type": "code",
   "execution_count": 2,
   "metadata": {},
   "outputs": [],
   "source": [
    "db = DataBase('./SPR_db.db')"
   ]
  },
  {
   "cell_type": "code",
   "execution_count": null,
   "metadata": {},
   "outputs": [],
   "source": [
    "convert_to_database('./db_folder', './SPR_db.db')"
   ]
  },
  {
   "cell_type": "code",
   "execution_count": 4,
   "metadata": {},
   "outputs": [],
   "source": [
    "pulse_list = np.load('pulse_list.npy', allow_pickle=True)\n",
    "delay_list = np.load('delay_list.npy', allow_pickle=True)\n",
    "pulse_width = np.load('pulse_width.npy', allow_pickle=True)"
   ]
  },
  {
   "cell_type": "markdown",
   "metadata": {},
   "source": [
    "## ALREADY IMPLEMENT METRICS : \n",
    "\n",
    "### PULSE\n",
    "----------------------------------------\n",
    "- ~~MEAN PULSE WIDTH~~\n",
    "- ~~MEAN PULSE AMP~~\n",
    "- ~~MEAN SIGNAL (FOR ALL SAMPLES)~~\n",
    "- ~~SKEW SIGNAL (FOR ALL SAMPLES)~~\n",
    "- ~~KURT SIGNAL (FOR ALL SAMPLES)~~\n",
    "- ~~VARIANCE SIGNAL (FOR ALL SAMPLES)~~\n",
    "\n",
    "----------------------------------------\n",
    "- HYSTERESIS (FOR ALL SAMPLES)\n",
    "\n",
    "- ~~MEAN SIGNAL (FOR EVERY SAMPLES)~~\n",
    "- ~~SKEW SIGNAL (FOR EVERY SAMPLES)~~\n",
    "- ~~KURT SIGNAL (FOR EVERY SAMPLES)~~\n",
    "- VARIANCE SIGNAL (FOR EVERY SAMPLES)\n",
    "- ~~HYSTERESIS (FOR EVERY SAMPLES)~~\n",
    "\n",
    "----------------------------------------\n",
    "\n",
    "\n",
    "### DELAY\n",
    "\n",
    "- ~~STD DELAY~~\n",
    "- ~~MEAN DELAY~~\n"
   ]
  },
  {
   "cell_type": "code",
   "execution_count": 5,
   "metadata": {},
   "outputs": [],
   "source": [
    "from scipy.stats import skew, kurtosis"
   ]
  },
  {
   "cell_type": "code",
   "execution_count": 6,
   "metadata": {},
   "outputs": [],
   "source": [
    "db.add_column('std_delays', np.std(delay_list, axis = 1), 'real')\n",
    "db.add_column('mean_delay', np.mean(abs(delay_list), axis = 1), 'real')\n",
    "\n",
    "db.add_column('mean_pulse_width', np.mean(abs(pulse_width), axis = 1), 'real')\n",
    "db.add_column('mean_pulse_amp', np.mean(np.max(abs(pulse_list), axis = 2), axis = 1), 'real')"
   ]
  },
  {
   "cell_type": "code",
   "execution_count": 7,
   "metadata": {},
   "outputs": [],
   "source": [
    "db.apply_function(np.mean, 'pulse_list', 'mean_mean_pulse', type_column = 'real')\n",
    "db.apply_function(skew, 'pulse_list', 'skew_mean',  type_column = 'real')\n",
    "db.apply_function(kurtosis, 'pulse_list', 'mean_kurt', type_column = 'real')\n",
    "db.apply_function(hysteresis_array, 'pulse_list ', 'hysteresis_mean', type_column = 'real')"
   ]
  }
 ],
 "metadata": {
  "kernelspec": {
   "display_name": "Python 3",
   "language": "python",
   "name": "python3"
  },
  "language_info": {
   "codemirror_mode": {
    "name": "ipython",
    "version": 3
   },
   "file_extension": ".py",
   "mimetype": "text/x-python",
   "name": "python",
   "nbconvert_exporter": "python",
   "pygments_lexer": "ipython3",
   "version": "3.11.4"
  }
 },
 "nbformat": 4,
 "nbformat_minor": 2
}
