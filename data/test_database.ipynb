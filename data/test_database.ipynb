{
 "cells": [
  {
   "cell_type": "code",
   "execution_count": 2,
   "metadata": {},
   "outputs": [],
   "source": [
    "from sklearn.model_selection import ParameterGrid"
   ]
  },
  {
   "cell_type": "code",
   "execution_count": 4,
   "metadata": {},
   "outputs": [],
   "source": [
    "parameter = dict(amp = [0.001, 0.005, 0.01, 0.02, 0.05, 0.1, 0.2,  \n",
    "                        0.5, 0.7, 1, 2, 5] , \n",
    "                 lcx = [1, 0.5], \n",
    "                 bm = [1, 4, 10],\n",
    "                 lcy = [0.5, 2, 30])\n",
    "\n",
    "params_grids = ParameterGrid(parameter)"
   ]
  },
  {
   "cell_type": "code",
   "execution_count": 1,
   "metadata": {},
   "outputs": [],
   "source": [
    "from DataBase import DataBase\n",
    "from utils.utils import *"
   ]
  },
  {
   "cell_type": "code",
   "execution_count": 2,
   "metadata": {},
   "outputs": [],
   "source": [
    "import numpy as np"
   ]
  },
  {
   "cell_type": "code",
   "execution_count": 5,
   "metadata": {},
   "outputs": [],
   "source": [
    "IQ_LIST = np.array(np.load(\"/media/andrea/Crucial X6/scholar/Master/stage/data/linear_profile_amp/a_0.0003/IQ_0.npy\"))"
   ]
  },
  {
   "cell_type": "code",
   "execution_count": 9,
   "metadata": {},
   "outputs": [],
   "source": [
    "delay_list = np.array([delay(*IQ_LIST)])\n",
    "pulse_witdh = np.array([delay_dispersion(*IQ_LIST)])"
   ]
  },
  {
   "cell_type": "code",
   "execution_count": 10,
   "metadata": {},
   "outputs": [
    {
     "data": {
      "text/plain": [
       "(array([4.37745098e-09+0.j]), array([8.99509804e-10+0.j]))"
      ]
     },
     "execution_count": 10,
     "metadata": {},
     "output_type": "execute_result"
    }
   ],
   "source": [
    "delay_list, pulse_witdh"
   ]
  },
  {
   "cell_type": "code",
   "execution_count": 11,
   "metadata": {},
   "outputs": [],
   "source": [
    "data = dict(id = 1 , amplitude = 0.05, lcx = 0.1, lcy =0.1 , bm = 1, time_list = IQ_LIST[0], pulse_list = IQ_LIST[1], delay_list = delay_list, pulse_width = pulse_witdh)"
   ]
  },
  {
   "cell_type": "code",
   "execution_count": 12,
   "metadata": {},
   "outputs": [],
   "source": [
    "db = DataBase('./test.db')\n",
    "db.insert(data)\n"
   ]
  },
  {
   "cell_type": "code",
   "execution_count": 15,
   "metadata": {},
   "outputs": [],
   "source": [
    "db.c.execute(\"SELECT  pulse_list, delay_list, pulse_width FROM data where id = 1\")\n",
    "p,d,c = db.c.fetchall()[0]"
   ]
  },
  {
   "cell_type": "code",
   "execution_count": 17,
   "metadata": {},
   "outputs": [
    {
     "data": {
      "text/plain": [
       "(array([0.        +0.j        , 0.        +0.j        ,\n",
       "        0.        +0.j        , ..., 0.51125656-0.07488921j,\n",
       "        0.50102267-0.06900563j, 0.49212666-0.07097344j]),\n",
       " array([4.37745098e-09+0.j]),\n",
       " array([8.99509804e-10+0.j]))"
      ]
     },
     "execution_count": 17,
     "metadata": {},
     "output_type": "execute_result"
    }
   ],
   "source": [
    "p,d,c"
   ]
  },
  {
   "cell_type": "code",
   "execution_count": 44,
   "metadata": {},
   "outputs": [],
   "source": [
    "db.c.execute(\"\"\"UPDATE data SET pulse_list = ?  WHERE id = 1; \"\"\", (np.array([0]),))\n",
    "db.conn.commit()"
   ]
  },
  {
   "cell_type": "code",
   "execution_count": 3,
   "metadata": {},
   "outputs": [],
   "source": [
    "db = DataBase('./test6.db')\n",
    "db.c.execute(\"SELECT  pulse_list, delay_list FROM data where id = 1\")\n",
    "p,d = db.c.fetchall()[0]"
   ]
  },
  {
   "cell_type": "code",
   "execution_count": 4,
   "metadata": {},
   "outputs": [
    {
     "data": {
      "text/plain": [
       "array([1.0000e-03, 1.3000e-03, 1.7000e-03, 2.3000e-03, 3.0000e-03,\n",
       "       4.0000e-03, 5.3000e-03, 7.0000e-03, 9.2000e-03, 1.2200e-02,\n",
       "       1.6100e-02, 2.1300e-02, 2.8100e-02, 3.7100e-02, 4.8900e-02,\n",
       "       6.4600e-02, 8.5300e-02, 1.1260e-01, 1.4870e-01, 1.9640e-01,\n",
       "       2.5930e-01, 3.4240e-01, 4.5200e-01, 5.9680e-01, 7.8800e-01,\n",
       "       1.0405e+00, 1.3738e+00, 1.8139e+00, 2.3950e+00, 3.1623e+00])"
      ]
     },
     "execution_count": 4,
     "metadata": {},
     "output_type": "execute_result"
    }
   ],
   "source": [
    "d"
   ]
  },
  {
   "cell_type": "code",
   "execution_count": 31,
   "metadata": {},
   "outputs": [],
   "source": [
    "a = db.c.execute(\"\"\"SELECT EXISTS(SELECT id FROM data where id = 0)\"\"\")"
   ]
  },
  {
   "cell_type": "code",
   "execution_count": 32,
   "metadata": {},
   "outputs": [
    {
     "data": {
      "text/plain": [
       "0"
      ]
     },
     "execution_count": 32,
     "metadata": {},
     "output_type": "execute_result"
    }
   ],
   "source": [
    "db.c.fetchall()[0][0]"
   ]
  },
  {
   "cell_type": "code",
   "execution_count": null,
   "metadata": {},
   "outputs": [],
   "source": []
  }
 ],
 "metadata": {
  "kernelspec": {
   "display_name": "base",
   "language": "python",
   "name": "python3"
  },
  "language_info": {
   "codemirror_mode": {
    "name": "ipython",
    "version": 3
   },
   "file_extension": ".py",
   "mimetype": "text/x-python",
   "name": "python",
   "nbconvert_exporter": "python",
   "pygments_lexer": "ipython3",
   "version": "3.11.4"
  }
 },
 "nbformat": 4,
 "nbformat_minor": 2
}
