{
 "cells": [
  {
   "cell_type": "code",
   "execution_count": 2,
   "metadata": {},
   "outputs": [],
   "source": [
    "from sklearn.model_selection import ParameterGrid"
   ]
  },
  {
   "cell_type": "code",
   "execution_count": 4,
   "metadata": {},
   "outputs": [],
   "source": [
    "parameter = dict(amp = [0.001, 0.005, 0.01, 0.02, 0.05, 0.1, 0.2,  \n",
    "                        0.5, 0.7, 1, 2, 5] , \n",
    "                 lcx = [1, 0.5], \n",
    "                 bm = [1, 4, 10],\n",
    "                 lcy = [0.5, 2, 30])\n",
    "\n",
    "params_grids = ParameterGrid(parameter)"
   ]
  },
  {
   "cell_type": "code",
   "execution_count": 1,
   "metadata": {},
   "outputs": [],
   "source": [
    "from DataBase import DataBase"
   ]
  },
  {
   "cell_type": "code",
   "execution_count": 2,
   "metadata": {},
   "outputs": [],
   "source": [
    "import numpy as np"
   ]
  },
  {
   "cell_type": "code",
   "execution_count": 3,
   "metadata": {},
   "outputs": [],
   "source": [
    "pulse_norm = np.load('../src/profile_study/extract_data/pulse_norm.npy')\n",
    "delay_list_norm = np.load('../src/profile_study/extract_data/delay_list_norm.npy')\n",
    "amplitude_norm = np.load('../src/profile_study/extract_data/amplitude_norm.npy')"
   ]
  },
  {
   "cell_type": "code",
   "execution_count": 4,
   "metadata": {},
   "outputs": [],
   "source": [
    "data = dict(id = 1 , amplitude = 0.05, lc_x = 0.1, lc_y =0.1 , bm = 1, time_list = delay_list_norm, pulse = pulse_norm,  seed = 102 )"
   ]
  },
  {
   "cell_type": "code",
   "execution_count": 5,
   "metadata": {},
   "outputs": [],
   "source": [
    "db = DataBase('d1ata2.db')\n",
    "db.insert(data)\n"
   ]
  },
  {
   "cell_type": "code",
   "execution_count": 11,
   "metadata": {},
   "outputs": [],
   "source": [
    "db.c.execute(\"SELECT  pulse FROM data where id = 1\")\n",
    "array = db.c.fetchall()[0]"
   ]
  }
 ],
 "metadata": {
  "kernelspec": {
   "display_name": "base",
   "language": "python",
   "name": "python3"
  },
  "language_info": {
   "codemirror_mode": {
    "name": "ipython",
    "version": 3
   },
   "file_extension": ".py",
   "mimetype": "text/x-python",
   "name": "python",
   "nbconvert_exporter": "python",
   "pygments_lexer": "ipython3",
   "version": "3.11.4"
  }
 },
 "nbformat": 4,
 "nbformat_minor": 2
}
